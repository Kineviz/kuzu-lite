{
 "cells": [
  {
   "cell_type": "code",
   "execution_count": null,
   "id": "1e7f8fe1",
   "metadata": {},
   "outputs": [
    {
     "name": "stdout",
     "output_type": "stream",
     "text": [
      "0.10.0\n",
      "38\n",
      "Error executing graph operations: Binder exception: Movie already exists in catalog.\n"
     ]
    },
    {
     "ename": "RuntimeError",
     "evalue": "IO exception: Failed to download extension: neo4j at URL extension.kuzudb.com/v0.10.0/win_amd64/neo4j/libneo4j.kuzu_extension (ERROR: Failed to read connection)",
     "output_type": "error",
     "traceback": [
      "\u001b[1;31m---------------------------------------------------------------------------\u001b[0m",
      "\u001b[1;31mRuntimeError\u001b[0m                              Traceback (most recent call last)",
      "Cell \u001b[1;32mIn[3], line 31\u001b[0m\n\u001b[0;32m     29\u001b[0m     \u001b[38;5;28mprint\u001b[39m(\u001b[38;5;124mf\u001b[39m\u001b[38;5;124m\"\u001b[39m\u001b[38;5;124mError executing graph operations: \u001b[39m\u001b[38;5;132;01m{\u001b[39;00m\u001b[38;5;28mstr\u001b[39m(e)\u001b[38;5;132;01m}\u001b[39;00m\u001b[38;5;124m\"\u001b[39m)\n\u001b[0;32m     30\u001b[0m \u001b[38;5;66;03m# Execute Cypher query\u001b[39;00m\n\u001b[1;32m---> 31\u001b[0m response \u001b[38;5;241m=\u001b[39m \u001b[43mconn\u001b[49m\u001b[38;5;241;43m.\u001b[39;49m\u001b[43mexecute\u001b[49m\u001b[43m(\u001b[49m\n\u001b[0;32m     32\u001b[0m \u001b[38;5;250;43m    \u001b[39;49m\u001b[38;5;124;43;03m\"\"\"\u001b[39;49;00m\n\u001b[0;32m     33\u001b[0m \u001b[38;5;124;43;03mINSTALL neo4j;\u001b[39;49;00m\n\u001b[0;32m     34\u001b[0m \u001b[38;5;124;43;03mLOAD neo4j;\u001b[39;49;00m\n\u001b[0;32m     35\u001b[0m \u001b[38;5;124;43;03m    \"\"\"\u001b[39;49;00m\n\u001b[0;32m     36\u001b[0m \u001b[43m)\u001b[49m\n\u001b[0;32m     37\u001b[0m \u001b[38;5;28;01mwhile\u001b[39;00m response\u001b[38;5;241m.\u001b[39mhas_next():\n\u001b[0;32m     38\u001b[0m     \u001b[38;5;28mprint\u001b[39m(response\u001b[38;5;241m.\u001b[39mget_next())\n",
      "File \u001b[1;32md:\\Tool\\python\\Lib\\site-packages\\kuzu\\connection.py:130\u001b[0m, in \u001b[0;36mConnection.execute\u001b[1;34m(self, query, parameters)\u001b[0m\n\u001b[0;32m    127\u001b[0m     \u001b[38;5;28;01mraise\u001b[39;00m \u001b[38;5;167;01mRuntimeError\u001b[39;00m(msg)  \u001b[38;5;66;03m# noqa: TRY004\u001b[39;00m\n\u001b[0;32m    129\u001b[0m \u001b[38;5;28;01mif\u001b[39;00m \u001b[38;5;28mlen\u001b[39m(parameters) \u001b[38;5;241m==\u001b[39m \u001b[38;5;241m0\u001b[39m \u001b[38;5;129;01mand\u001b[39;00m \u001b[38;5;28misinstance\u001b[39m(query, \u001b[38;5;28mstr\u001b[39m):\n\u001b[1;32m--> 130\u001b[0m     _query_result \u001b[38;5;241m=\u001b[39m \u001b[38;5;28;43mself\u001b[39;49m\u001b[38;5;241;43m.\u001b[39;49m\u001b[43m_connection\u001b[49m\u001b[38;5;241;43m.\u001b[39;49m\u001b[43mquery\u001b[49m\u001b[43m(\u001b[49m\u001b[43mquery\u001b[49m\u001b[43m)\u001b[49m\n\u001b[0;32m    131\u001b[0m \u001b[38;5;28;01melse\u001b[39;00m:\n\u001b[0;32m    132\u001b[0m     prepared_statement \u001b[38;5;241m=\u001b[39m \u001b[38;5;28mself\u001b[39m\u001b[38;5;241m.\u001b[39mprepare(query) \u001b[38;5;28;01mif\u001b[39;00m \u001b[38;5;28misinstance\u001b[39m(query, \u001b[38;5;28mstr\u001b[39m) \u001b[38;5;28;01melse\u001b[39;00m query\n",
      "\u001b[1;31mRuntimeError\u001b[0m: IO exception: Failed to download extension: neo4j at URL extension.kuzudb.com/v0.10.0/win_amd64/neo4j/libneo4j.kuzu_extension (ERROR: Failed to read connection)"
     ]
    }
   ],
   "source": [
    "!pip install --upgrade --quiet kuzu\n",
    "## the extensions will install to ~/.kuzu/extension/0.10.0/win_amd64/xxx  refer https://extension.kuzudb.com/v0.10.0/win_amd64/xxx\n",
    "import kuzu\n",
    "\n",
    "\n",
    "# Create an empty on-disk database and connect to it\n",
    "db = kuzu.Database(\"./demo_db_0.10.0\")\n",
    "print(db.get_version())\n",
    "print(db.get_storage_version())\n",
    "conn = kuzu.Connection(db)\n",
    "# Create a graph with a node label and a property\n",
    "try:\n",
    "    conn.execute(\n",
    "        \"\"\"\n",
    "          CREATE NODE TABLE Movie (name STRING, PRIMARY KEY(name));\n",
    "          CREATE NODE TABLE Person (name STRING, birthDate STRING, PRIMARY KEY(name));\n",
    "          CREATE REL TABLE ActedIn (FROM Person TO Movie);\n",
    "          CREATE (:Person {name: 'Al Pacino', birthDate: '1940-04-25'});\n",
    "          CREATE (:Person {name: 'Robert De Nero', birthDate: '1943-08-17'});\n",
    "          CREATE (:Movie {name: 'The Godfather: Part II'});\n",
    "          MATCH (p:Person), (m:Movie) WHERE p.name = 'Al Pacino' AND m.name = 'The Godfather: Part II' CREATE (p)-[:ActedIn]->(m);\n",
    "          MATCH (p:Person), (m:Movie) WHERE p.name = 'Robert De Nero' AND m.name = 'The Godfather: Part II' CREATE (p)-[:ActedIn]->(m);\n",
    "        \"\"\"\n",
    "    )\n",
    "except Exception as e:\n",
    "    print(f\"Error executing graph operations: {str(e)}\")\n",
    "# Execute Cypher query\n",
    "response = conn.execute(\n",
    "    \"\"\"\n",
    "INSTALL neo4j;\n",
    "LOAD neo4j;\n",
    "    \"\"\"\n",
    ")\n",
    "while response.has_next():\n",
    "    print(response.get_next())\n",
    "response.close()\n",
    "conn.close()\n",
    "db.close()"
   ]
  },
  {
   "cell_type": "code",
   "execution_count": null,
   "id": "8c930d95",
   "metadata": {},
   "outputs": [],
   "source": [
    "import kuzu\n",
    "\n",
    "\n",
    "class KuzuSession:\n",
    "    def __init__(self, db_path):\n",
    "        self.db_path = db_path\n",
    "\n",
    "    def __enter__(self):\n",
    "        self.db = kuzu.Database(self.db_path)\n",
    "        self.conn = kuzu.Connection(self.db)\n",
    "        return self.conn\n",
    "\n",
    "    def __exit__(self, exc_type, exc_val, exc_tb):\n",
    "       # self.conn.close()\n",
    "       # self.db.close()\n",
    "        print(\"Session closed successfully.\")\n",
    "\n",
    "# Usage:\n",
    "with KuzuSession(\"demo_db\") as conn:\n",
    "    result = conn.execute(\"MATCH (n) RETURN n LIMIT 1\")\n",
    "    print(result.get_as_df())"
   ]
  },
  {
   "cell_type": "code",
   "execution_count": null,
   "id": "612c6ac3",
   "metadata": {},
   "outputs": [],
   "source": [
    "from safe_kuzu_subprocess import SafeKuzuSubprocess\n",
    "with SafeKuzuSubprocess(\"demo_db\") as db:\n",
    "    df = db.execute(\"MATCH (n)-[r]-(m) RETURN * LIMIT 10\")\n",
    "    print(df)"
   ]
  },
  {
   "cell_type": "code",
   "execution_count": null,
   "id": "44884e2c",
   "metadata": {},
   "outputs": [],
   "source": [
    "\n",
    "from safe_kuzu_subprocess import SafeKuzuSubprocess\n",
    "with SafeKuzuSubprocess(\"demo_large\") as db:\n",
    "    df = db.execute(\"MATCH (n)-[r]-(m) RETURN * LIMIT 2000\")\n",
    "    print(df)"
   ]
  }
 ],
 "metadata": {
  "kernelspec": {
   "display_name": "Python 3",
   "language": "python",
   "name": "python3"
  },
  "language_info": {
   "codemirror_mode": {
    "name": "ipython",
    "version": 3
   },
   "file_extension": ".py",
   "mimetype": "text/x-python",
   "name": "python",
   "nbconvert_exporter": "python",
   "pygments_lexer": "ipython3",
   "version": "3.13.1"
  }
 },
 "nbformat": 4,
 "nbformat_minor": 5
}
