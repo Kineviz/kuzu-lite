{
 "cells": [
  {
   "cell_type": "code",
   "execution_count": 1,
   "id": "1e7f8fe1",
   "metadata": {},
   "outputs": [
    {
     "name": "stdout",
     "output_type": "stream",
     "text": [
      "0.10.0\n",
      "38\n",
      "Error executing graph operations: Binder exception: Book already exists in catalog.\n"
     ]
    }
   ],
   "source": [
    "!pip install --upgrade --quiet kuzu\n",
    "## the extensions will install to ~/.kuzu/extension/0.10.0/win_amd64/xxx  refer https://extension.kuzudb.com/v0.10.0/win_amd64/xxx\n",
    "import kuzu\n",
    "\n",
    "\n",
    "# Create an empty on-disk database and connect to it\n",
    "db = kuzu.Database(\"./demo_db_0.10\")\n",
    "print(db.get_version())\n",
    "print(db.get_storage_version())\n",
    "conn = kuzu.Connection(db)\n",
    "# Create a graph with a node label and a property\n",
    "try:\n",
    "    conn.execute(\n",
    "        \"\"\"\n",
    "     CREATE NODE TABLE Book (ID SERIAL, abstract STRING, title STRING, PRIMARY KEY (ID));\n",
    "CREATE (b:Book {abstract: 'An exploration of quantum mechanics.', title: 'The Quantum World'});\n",
    "CREATE (b:Book {abstract: 'A magic journey through time and space.', title: 'Chronicles of the Universe'});\n",
    "CREATE (b:Book {abstract: 'An introduction to machine learning techniques.', title: 'Learning Machines'});\n",
    "CREATE (b:Book {abstract: 'A deep dive into the history of ancient civilizations.', title: 'Echoes of the Past'});\n",
    "CREATE (b:Book {abstract: 'A fantasy tale of dragons and magic.', title: 'The Dragons Call'});\n",
    "        \"\"\"\n",
    "    )\n",
    "except Exception as e:\n",
    "    print(f\"Error executing graph operations: {str(e)}\")\n",
    "# Execute Cypher query\n",
    "conn.execute(\n",
    "    \"\"\"\n",
    "LOAD FTS;\n",
    "\"\"\");\n",
    "\n",
    "response=conn.execute(\"\"\"\n",
    "CALL SHOW_INDEXES() RETURN *;\n",
    "    \"\"\"\n",
    ")\n",
    "while response.has_next():\n",
    "    print(response.get_next())\n",
    "response.close()\n",
    "conn.close()\n",
    "db.close()"
   ]
  },
  {
   "cell_type": "code",
   "execution_count": null,
   "id": "8c930d95",
   "metadata": {},
   "outputs": [],
   "source": [
    "import kuzu\n",
    "\n",
    "\n",
    "class KuzuSession:\n",
    "    def __init__(self, db_path):\n",
    "        self.db_path = db_path\n",
    "\n",
    "    def __enter__(self):\n",
    "        self.db = kuzu.Database(self.db_path)\n",
    "        self.conn = kuzu.Connection(self.db)\n",
    "        return self.conn\n",
    "\n",
    "    def __exit__(self, exc_type, exc_val, exc_tb):\n",
    "       # self.conn.close()\n",
    "       # self.db.close()\n",
    "        print(\"Session closed successfully.\")\n",
    "\n",
    "# Usage:\n",
    "with KuzuSession(\"demo_db\") as conn:\n",
    "    result = conn.execute(\"MATCH (n) RETURN n LIMIT 1\")\n",
    "    print(result.get_as_df())"
   ]
  },
  {
   "cell_type": "code",
   "execution_count": null,
   "id": "612c6ac3",
   "metadata": {},
   "outputs": [
    {
     "ename": "RuntimeError",
     "evalue": "Error in Kùzu subprocess:\nTraceback (most recent call last):\n  File \"e:\\projects\\kuzu-lite\\util\\safe_kuzu_subprocess.py\", line 19, in kuzu_worker\n    df = result.get_as_df()\n         ^^^^^^^^^^^^^^^^\nAttributeError: 'list' object has no attribute 'get_as_df'\n",
     "output_type": "error",
     "traceback": [
      "\u001b[1;31m---------------------------------------------------------------------------\u001b[0m",
      "\u001b[1;31mRuntimeError\u001b[0m                              Traceback (most recent call last)",
      "Cell \u001b[1;32mIn[10], line 3\u001b[0m\n\u001b[0;32m      1\u001b[0m \u001b[38;5;28;01mfrom\u001b[39;00m\u001b[38;5;250m \u001b[39m\u001b[38;5;21;01msafe_kuzu_subprocess\u001b[39;00m\u001b[38;5;250m \u001b[39m\u001b[38;5;28;01mimport\u001b[39;00m SafeKuzuSubprocess\n\u001b[0;32m      2\u001b[0m \u001b[38;5;28;01mwith\u001b[39;00m SafeKuzuSubprocess(\u001b[38;5;124m\"\u001b[39m\u001b[38;5;124mdemo_db_10\u001b[39m\u001b[38;5;124m\"\u001b[39m) \u001b[38;5;28;01mas\u001b[39;00m db:\n\u001b[1;32m----> 3\u001b[0m         \u001b[43mdb\u001b[49m\u001b[38;5;241;43m.\u001b[39;49m\u001b[43mexecute\u001b[49m\u001b[43m(\u001b[49m\u001b[38;5;124;43m\"\"\"\u001b[39;49m\n\u001b[0;32m      4\u001b[0m \u001b[38;5;124;43m            CREATE NODE TABLE Book (ID SERIAL, abstract STRING, title STRING, PRIMARY KEY (ID));\u001b[39;49m\n\u001b[0;32m      5\u001b[0m \u001b[38;5;124;43m            CREATE (b:Book \u001b[39;49m\u001b[38;5;124;43m{\u001b[39;49m\u001b[38;5;124;43mabstract: \u001b[39;49m\u001b[38;5;124;43m'\u001b[39;49m\u001b[38;5;124;43mAn exploration of quantum mechanics.\u001b[39;49m\u001b[38;5;124;43m'\u001b[39;49m\u001b[38;5;124;43m, title: \u001b[39;49m\u001b[38;5;124;43m'\u001b[39;49m\u001b[38;5;124;43mThe Quantum World\u001b[39;49m\u001b[38;5;124;43m'\u001b[39;49m\u001b[38;5;124;43m});\u001b[39;49m\n\u001b[0;32m      6\u001b[0m \u001b[38;5;124;43m            CREATE (b:Book \u001b[39;49m\u001b[38;5;124;43m{\u001b[39;49m\u001b[38;5;124;43mabstract: \u001b[39;49m\u001b[38;5;124;43m'\u001b[39;49m\u001b[38;5;124;43mA magic journey through time and space.\u001b[39;49m\u001b[38;5;124;43m'\u001b[39;49m\u001b[38;5;124;43m, title: \u001b[39;49m\u001b[38;5;124;43m'\u001b[39;49m\u001b[38;5;124;43mChronicles of the Universe\u001b[39;49m\u001b[38;5;124;43m'\u001b[39;49m\u001b[38;5;124;43m});\u001b[39;49m\n\u001b[0;32m      7\u001b[0m \u001b[38;5;124;43m            CREATE (b:Book \u001b[39;49m\u001b[38;5;124;43m{\u001b[39;49m\u001b[38;5;124;43mabstract: \u001b[39;49m\u001b[38;5;124;43m'\u001b[39;49m\u001b[38;5;124;43mAn introduction to machine learning techniques.\u001b[39;49m\u001b[38;5;124;43m'\u001b[39;49m\u001b[38;5;124;43m, title: \u001b[39;49m\u001b[38;5;124;43m'\u001b[39;49m\u001b[38;5;124;43mLearning Machines\u001b[39;49m\u001b[38;5;124;43m'\u001b[39;49m\u001b[38;5;124;43m});\u001b[39;49m\n\u001b[0;32m      8\u001b[0m \u001b[38;5;124;43m            CREATE (b:Book \u001b[39;49m\u001b[38;5;124;43m{\u001b[39;49m\u001b[38;5;124;43mabstract: \u001b[39;49m\u001b[38;5;124;43m'\u001b[39;49m\u001b[38;5;124;43mA deep dive into the history of ancient civilizations.\u001b[39;49m\u001b[38;5;124;43m'\u001b[39;49m\u001b[38;5;124;43m, title: \u001b[39;49m\u001b[38;5;124;43m'\u001b[39;49m\u001b[38;5;124;43mEchoes of the Past\u001b[39;49m\u001b[38;5;124;43m'\u001b[39;49m\u001b[38;5;124;43m});\u001b[39;49m\n\u001b[0;32m      9\u001b[0m \u001b[38;5;124;43m            CREATE (b:Book \u001b[39;49m\u001b[38;5;124;43m{\u001b[39;49m\u001b[38;5;124;43mabstract: \u001b[39;49m\u001b[38;5;124;43m'\u001b[39;49m\u001b[38;5;124;43mA fantasy tale of dragons and magic.\u001b[39;49m\u001b[38;5;124;43m'\u001b[39;49m\u001b[38;5;124;43m, title: \u001b[39;49m\u001b[38;5;124;43m'\u001b[39;49m\u001b[38;5;124;43mThe Dragons Call\u001b[39;49m\u001b[38;5;124;43m'\u001b[39;49m\u001b[38;5;124;43m});\u001b[39;49m\n\u001b[0;32m     10\u001b[0m \u001b[38;5;124;43m            \u001b[39;49m\u001b[38;5;124;43m\"\"\"\u001b[39;49m\u001b[43m)\u001b[49m\n\u001b[0;32m     11\u001b[0m         df \u001b[38;5;241m=\u001b[39m db\u001b[38;5;241m.\u001b[39mexecute(\u001b[38;5;124m\"\"\"\u001b[39m\n\u001b[0;32m     12\u001b[0m \u001b[38;5;124m                LOAD FTS;\u001b[39m\n\u001b[0;32m     13\u001b[0m \u001b[38;5;124m                CALL CREATE_FTS_INDEX(\u001b[39m\n\u001b[1;32m   (...)\u001b[0m\n\u001b[0;32m     18\u001b[0m \u001b[38;5;124m                CALL SHOW_INDEXES() RETURN *;\u001b[39m\n\u001b[0;32m     19\u001b[0m \u001b[38;5;124m        \u001b[39m\u001b[38;5;124m\"\"\"\u001b[39m)\n\u001b[0;32m     20\u001b[0m         \u001b[38;5;28mprint\u001b[39m(df)\n",
      "File \u001b[1;32me:\\projects\\kuzu-lite\\util\\safe_kuzu_subprocess.py:45\u001b[0m, in \u001b[0;36mSafeKuzuSubprocess.execute\u001b[1;34m(self, query)\u001b[0m\n\u001b[0;32m     43\u001b[0m     \u001b[38;5;28;01mreturn\u001b[39;00m pickle\u001b[38;5;241m.\u001b[39mloads(payload)\n\u001b[0;32m     44\u001b[0m \u001b[38;5;28;01melse\u001b[39;00m:\n\u001b[1;32m---> 45\u001b[0m     \u001b[38;5;28;01mraise\u001b[39;00m \u001b[38;5;167;01mRuntimeError\u001b[39;00m(\u001b[38;5;124mf\u001b[39m\u001b[38;5;124m\"\u001b[39m\u001b[38;5;124mError in Kùzu subprocess:\u001b[39m\u001b[38;5;130;01m\\n\u001b[39;00m\u001b[38;5;132;01m{\u001b[39;00mpayload\u001b[38;5;132;01m}\u001b[39;00m\u001b[38;5;124m\"\u001b[39m)\n",
      "\u001b[1;31mRuntimeError\u001b[0m: Error in Kùzu subprocess:\nTraceback (most recent call last):\n  File \"e:\\projects\\kuzu-lite\\util\\safe_kuzu_subprocess.py\", line 19, in kuzu_worker\n    df = result.get_as_df()\n         ^^^^^^^^^^^^^^^^\nAttributeError: 'list' object has no attribute 'get_as_df'\n"
     ]
    }
   ],
   "source": [
    "from safe_kuzu_subprocess import SafeKuzuSubprocess\n",
    "with SafeKuzuSubprocess(\"demo_db\") as db:\n",
    "    df = db.execute(\"MATCH (n)-[r]-(m) RETURN * LIMIT 10\")\n",
    "    print(df)"
   ]
  },
  {
   "cell_type": "code",
   "execution_count": 6,
   "id": "44884e2c",
   "metadata": {},
   "outputs": [
    {
     "ename": "RuntimeError",
     "evalue": "Error in Kùzu subprocess:\nTraceback (most recent call last):\n  File \"e:\\projects\\kuzu-lite\\util\\safe_kuzu_subprocess.py\", line 9, in kuzu_worker\n    db = kuzu.Database(db_path)\n  File \"d:\\Tool\\python\\Lib\\site-packages\\kuzu\\database.py\", line 104, in __init__\n    self.init_database()\n    ~~~~~~~~~~~~~~~~~~^^\n  File \"d:\\Tool\\python\\Lib\\site-packages\\kuzu\\database.py\", line 155, in init_database\n    self._database = _kuzu.Database(  # type: ignore[union-attr]\n                     ~~~~~~~~~~~~~~^^^^^^^^^^^^^^^^^^^^^^^^^^^^^\n        self.database_path,\n        ^^^^^^^^^^^^^^^^^^^\n    ...<6 lines>...\n        self.checkpoint_threshold,\n        ^^^^^^^^^^^^^^^^^^^^^^^^^^\n    )\n    ^\nRuntimeError: Runtime exception: Trying to read a database file with a different version. Database file version: 37, Current build storage version: 38\n",
     "output_type": "error",
     "traceback": [
      "\u001b[1;31m---------------------------------------------------------------------------\u001b[0m",
      "\u001b[1;31mRuntimeError\u001b[0m                              Traceback (most recent call last)",
      "Cell \u001b[1;32mIn[6], line 3\u001b[0m\n\u001b[0;32m      1\u001b[0m \u001b[38;5;28;01mfrom\u001b[39;00m\u001b[38;5;250m \u001b[39m\u001b[38;5;21;01msafe_kuzu_subprocess\u001b[39;00m\u001b[38;5;250m \u001b[39m\u001b[38;5;28;01mimport\u001b[39;00m SafeKuzuSubprocess\n\u001b[0;32m      2\u001b[0m \u001b[38;5;28;01mwith\u001b[39;00m SafeKuzuSubprocess(\u001b[38;5;124m\"\u001b[39m\u001b[38;5;124mdemo_large\u001b[39m\u001b[38;5;124m\"\u001b[39m) \u001b[38;5;28;01mas\u001b[39;00m db:\n\u001b[1;32m----> 3\u001b[0m     df \u001b[38;5;241m=\u001b[39m \u001b[43mdb\u001b[49m\u001b[38;5;241;43m.\u001b[39;49m\u001b[43mexecute\u001b[49m\u001b[43m(\u001b[49m\u001b[38;5;124;43m\"\u001b[39;49m\u001b[38;5;124;43mMATCH (n)-[r]-(m) RETURN * LIMIT 2000\u001b[39;49m\u001b[38;5;124;43m\"\u001b[39;49m\u001b[43m)\u001b[49m\n\u001b[0;32m      4\u001b[0m     \u001b[38;5;28mprint\u001b[39m(df)\n",
      "File \u001b[1;32me:\\projects\\kuzu-lite\\util\\safe_kuzu_subprocess.py:45\u001b[0m, in \u001b[0;36mSafeKuzuSubprocess.execute\u001b[1;34m(self, query)\u001b[0m\n\u001b[0;32m     43\u001b[0m     \u001b[38;5;28;01mreturn\u001b[39;00m pickle\u001b[38;5;241m.\u001b[39mloads(payload)\n\u001b[0;32m     44\u001b[0m \u001b[38;5;28;01melse\u001b[39;00m:\n\u001b[1;32m---> 45\u001b[0m     \u001b[38;5;28;01mraise\u001b[39;00m \u001b[38;5;167;01mRuntimeError\u001b[39;00m(\u001b[38;5;124mf\u001b[39m\u001b[38;5;124m\"\u001b[39m\u001b[38;5;124mError in Kùzu subprocess:\u001b[39m\u001b[38;5;130;01m\\n\u001b[39;00m\u001b[38;5;132;01m{\u001b[39;00mpayload\u001b[38;5;132;01m}\u001b[39;00m\u001b[38;5;124m\"\u001b[39m)\n",
      "\u001b[1;31mRuntimeError\u001b[0m: Error in Kùzu subprocess:\nTraceback (most recent call last):\n  File \"e:\\projects\\kuzu-lite\\util\\safe_kuzu_subprocess.py\", line 9, in kuzu_worker\n    db = kuzu.Database(db_path)\n  File \"d:\\Tool\\python\\Lib\\site-packages\\kuzu\\database.py\", line 104, in __init__\n    self.init_database()\n    ~~~~~~~~~~~~~~~~~~^^\n  File \"d:\\Tool\\python\\Lib\\site-packages\\kuzu\\database.py\", line 155, in init_database\n    self._database = _kuzu.Database(  # type: ignore[union-attr]\n                     ~~~~~~~~~~~~~~^^^^^^^^^^^^^^^^^^^^^^^^^^^^^\n        self.database_path,\n        ^^^^^^^^^^^^^^^^^^^\n    ...<6 lines>...\n        self.checkpoint_threshold,\n        ^^^^^^^^^^^^^^^^^^^^^^^^^^\n    )\n    ^\nRuntimeError: Runtime exception: Trying to read a database file with a different version. Database file version: 37, Current build storage version: 38\n"
     ]
    }
   ],
   "source": [
    "\n",
    "from safe_kuzu_subprocess import SafeKuzuSubprocess\n",
    "with SafeKuzuSubprocess(\"demo_large\") as db:\n",
    "    df = db.execute(\"MATCH (n)-[r]-(m) RETURN * LIMIT 2000\")\n",
    "    print(df)"
   ]
  }
 ],
 "metadata": {
  "kernelspec": {
   "display_name": "Python 3",
   "language": "python",
   "name": "python3"
  },
  "language_info": {
   "codemirror_mode": {
    "name": "ipython",
    "version": 3
   },
   "file_extension": ".py",
   "mimetype": "text/x-python",
   "name": "python",
   "nbconvert_exporter": "python",
   "pygments_lexer": "ipython3",
   "version": "3.13.1"
  }
 },
 "nbformat": 4,
 "nbformat_minor": 5
}
