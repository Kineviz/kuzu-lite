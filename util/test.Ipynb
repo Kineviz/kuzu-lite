{
 "cells": [
  {
   "cell_type": "code",
   "execution_count": 1,
   "id": "1e7f8fe1",
   "metadata": {},
   "outputs": [
    {
     "name": "stdout",
     "output_type": "stream",
     "text": [
      "Error executing graph operations: Binder exception: Movie already exists in catalog.\n",
      "['Al Pacino']\n",
      "['Robert De Nero']\n",
      "['The Godfather: Part II']\n"
     ]
    }
   ],
   "source": [
    "import kuzu\n",
    "\n",
    "# Create an empty on-disk database and connect to it\n",
    "db = kuzu.Database(\"./demo_db\")\n",
    "conn = kuzu.Connection(db)\n",
    "\n",
    "# Create a graph with a node label and a property\n",
    "try:\n",
    "    conn.execute(\n",
    "        \"\"\"\n",
    "          CREATE NODE TABLE Movie (name STRING, PRIMARY KEY(name));\n",
    "          CREATE NODE TABLE Person (name STRING, birthDate STRING, PRIMARY KEY(name));\n",
    "          CREATE REL TABLE ActedIn (FROM Person TO Movie);\n",
    "          CREATE (:Person {name: 'Al Pacino', birthDate: '1940-04-25'});\n",
    "          CREATE (:Person {name: 'Robert De Nero', birthDate: '1943-08-17'});\n",
    "          CREATE (:Movie {name: 'The Godfather: Part II'});\n",
    "          MATCH (p:Person), (m:Movie) WHERE p.name = 'Al Pacino' AND m.name = 'The Godfather: Part II' CREATE (p)-[:ActedIn]->(m);\n",
    "          MATCH (p:Person), (m:Movie) WHERE p.name = 'Robert De Nero' AND m.name = 'The Godfather: Part II' CREATE (p)-[:ActedIn]->(m);\n",
    "        \"\"\"\n",
    "    )\n",
    "except Exception as e:\n",
    "    print(f\"Error executing graph operations: {str(e)}\")\n",
    "\n",
    "# Execute Cypher query\n",
    "response = conn.execute(\n",
    "    \"\"\"\n",
    "    MATCH (a)\n",
    "    RETURN a.name AS name \n",
    "    \"\"\"\n",
    ")\n",
    "\n",
    "while response.has_next():\n",
    "    print(response.get_next())\n",
    "conn.close()\n",
    "db.close()"
   ]
  }
 ],
 "metadata": {
  "kernelspec": {
   "display_name": "Python 3",
   "language": "python",
   "name": "python3"
  },
  "language_info": {
   "codemirror_mode": {
    "name": "ipython",
    "version": 3
   },
   "file_extension": ".py",
   "mimetype": "text/x-python",
   "name": "python",
   "nbconvert_exporter": "python",
   "pygments_lexer": "ipython3",
   "version": "3.13.1"
  }
 },
 "nbformat": 4,
 "nbformat_minor": 5
}
