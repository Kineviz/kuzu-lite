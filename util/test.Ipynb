{
 "cells": [
  {
   "cell_type": "code",
   "execution_count": 90,
   "id": "1e7f8fe1",
   "metadata": {},
   "outputs": [
    {
     "name": "stdout",
     "output_type": "stream",
     "text": [
      "Error executing graph operations: Binder exception: Movie already exists in catalog.\n",
      "['Al Pacino']\n",
      "['Robert De Nero']\n",
      "['The Godfather: Part II']\n"
     ]
    }
   ],
   "source": [
    "import kuzu\n",
    "\n",
    "# Create an empty on-disk database and connect to it\n",
    "db = kuzu.Database(\"./demo_db\")\n",
    "conn = kuzu.Connection(db)\n",
    "# Create a graph with a node label and a property\n",
    "try:\n",
    "    conn.execute(\n",
    "        \"\"\"\n",
    "          CREATE NODE TABLE Movie (name STRING, PRIMARY KEY(name));\n",
    "          CREATE NODE TABLE Person (name STRING, birthDate STRING, PRIMARY KEY(name));\n",
    "          CREATE REL TABLE ActedIn (FROM Person TO Movie);\n",
    "          CREATE (:Person {name: 'Al Pacino', birthDate: '1940-04-25'});\n",
    "          CREATE (:Person {name: 'Robert De Nero', birthDate: '1943-08-17'});\n",
    "          CREATE (:Movie {name: 'The Godfather: Part II'});\n",
    "          MATCH (p:Person), (m:Movie) WHERE p.name = 'Al Pacino' AND m.name = 'The Godfather: Part II' CREATE (p)-[:ActedIn]->(m);\n",
    "          MATCH (p:Person), (m:Movie) WHERE p.name = 'Robert De Nero' AND m.name = 'The Godfather: Part II' CREATE (p)-[:ActedIn]->(m);\n",
    "        \"\"\"\n",
    "    )\n",
    "except Exception as e:\n",
    "    print(f\"Error executing graph operations: {str(e)}\")\n",
    "# Execute Cypher query\n",
    "response = conn.execute(\n",
    "    \"\"\"\n",
    "    MATCH (a)\n",
    "    RETURN a.name AS name \n",
    "    \"\"\"\n",
    ")\n",
    "while response.has_next():\n",
    "    print(response.get_next())\n",
    "response.close()\n",
    "conn.close()\n",
    "db.close()"
   ]
  },
  {
   "cell_type": "code",
   "execution_count": 13,
   "id": "8c930d95",
   "metadata": {},
   "outputs": [
    {
     "ename": "RuntimeError",
     "evalue": "IO exception: Could not set lock on file : e:\\projects\\kuzu-lite\\util\\demo_db/.lock\nSee the docs: https://docs.kuzudb.com/concurrency for more information.",
     "output_type": "error",
     "traceback": [
      "\u001b[1;31m---------------------------------------------------------------------------\u001b[0m",
      "\u001b[1;31mRuntimeError\u001b[0m                              Traceback (most recent call last)",
      "Cell \u001b[1;32mIn[13], line 19\u001b[0m\n\u001b[0;32m     16\u001b[0m         \u001b[38;5;28mprint\u001b[39m(\u001b[38;5;124m\"\u001b[39m\u001b[38;5;124mSession closed successfully.\u001b[39m\u001b[38;5;124m\"\u001b[39m)\n\u001b[0;32m     18\u001b[0m \u001b[38;5;66;03m# Usage:\u001b[39;00m\n\u001b[1;32m---> 19\u001b[0m \u001b[38;5;28;01mwith\u001b[39;00m KuzuSession(\u001b[38;5;124m\"\u001b[39m\u001b[38;5;124mdemo_db\u001b[39m\u001b[38;5;124m\"\u001b[39m) \u001b[38;5;28;01mas\u001b[39;00m conn:\n\u001b[0;32m     20\u001b[0m     result \u001b[38;5;241m=\u001b[39m conn\u001b[38;5;241m.\u001b[39mexecute(\u001b[38;5;124m\"\u001b[39m\u001b[38;5;124mMATCH (n) RETURN n LIMIT 1\u001b[39m\u001b[38;5;124m\"\u001b[39m)\n\u001b[0;32m     21\u001b[0m     \u001b[38;5;28mprint\u001b[39m(result\u001b[38;5;241m.\u001b[39mget_as_df())\n",
      "Cell \u001b[1;32mIn[13], line 9\u001b[0m, in \u001b[0;36mKuzuSession.__enter__\u001b[1;34m(self)\u001b[0m\n\u001b[0;32m      8\u001b[0m \u001b[38;5;28;01mdef\u001b[39;00m\u001b[38;5;250m \u001b[39m\u001b[38;5;21m__enter__\u001b[39m(\u001b[38;5;28mself\u001b[39m):\n\u001b[1;32m----> 9\u001b[0m     \u001b[38;5;28mself\u001b[39m\u001b[38;5;241m.\u001b[39mdb \u001b[38;5;241m=\u001b[39m \u001b[43mkuzu\u001b[49m\u001b[38;5;241;43m.\u001b[39;49m\u001b[43mDatabase\u001b[49m\u001b[43m(\u001b[49m\u001b[38;5;28;43mself\u001b[39;49m\u001b[38;5;241;43m.\u001b[39;49m\u001b[43mdb_path\u001b[49m\u001b[43m)\u001b[49m\n\u001b[0;32m     10\u001b[0m     \u001b[38;5;28mself\u001b[39m\u001b[38;5;241m.\u001b[39mconn \u001b[38;5;241m=\u001b[39m kuzu\u001b[38;5;241m.\u001b[39mConnection(\u001b[38;5;28mself\u001b[39m\u001b[38;5;241m.\u001b[39mdb)\n\u001b[0;32m     11\u001b[0m     \u001b[38;5;28;01mreturn\u001b[39;00m \u001b[38;5;28mself\u001b[39m\u001b[38;5;241m.\u001b[39mconn\n",
      "File \u001b[1;32md:\\Tool\\python\\Lib\\site-packages\\kuzu\\database.py:104\u001b[0m, in \u001b[0;36mDatabase.__init__\u001b[1;34m(self, database_path, buffer_pool_size, max_num_threads, compression, lazy_init, read_only, max_db_size, auto_checkpoint, checkpoint_threshold)\u001b[0m\n\u001b[0;32m    102\u001b[0m \u001b[38;5;28mself\u001b[39m\u001b[38;5;241m.\u001b[39m_database: Any \u001b[38;5;241m=\u001b[39m \u001b[38;5;28;01mNone\u001b[39;00m  \u001b[38;5;66;03m# (type: _kuzu.Database from pybind11)\u001b[39;00m\n\u001b[0;32m    103\u001b[0m \u001b[38;5;28;01mif\u001b[39;00m \u001b[38;5;129;01mnot\u001b[39;00m lazy_init:\n\u001b[1;32m--> 104\u001b[0m     \u001b[38;5;28;43mself\u001b[39;49m\u001b[38;5;241;43m.\u001b[39;49m\u001b[43minit_database\u001b[49m\u001b[43m(\u001b[49m\u001b[43m)\u001b[49m\n",
      "File \u001b[1;32md:\\Tool\\python\\Lib\\site-packages\\kuzu\\database.py:155\u001b[0m, in \u001b[0;36mDatabase.init_database\u001b[1;34m(self)\u001b[0m\n\u001b[0;32m    153\u001b[0m \u001b[38;5;28mself\u001b[39m\u001b[38;5;241m.\u001b[39mcheck_for_database_close()\n\u001b[0;32m    154\u001b[0m \u001b[38;5;28;01mif\u001b[39;00m \u001b[38;5;28mself\u001b[39m\u001b[38;5;241m.\u001b[39m_database \u001b[38;5;129;01mis\u001b[39;00m \u001b[38;5;28;01mNone\u001b[39;00m:\n\u001b[1;32m--> 155\u001b[0m     \u001b[38;5;28mself\u001b[39m\u001b[38;5;241m.\u001b[39m_database \u001b[38;5;241m=\u001b[39m \u001b[43m_kuzu\u001b[49m\u001b[38;5;241;43m.\u001b[39;49m\u001b[43mDatabase\u001b[49m\u001b[43m(\u001b[49m\u001b[43m  \u001b[49m\u001b[38;5;66;43;03m# type: ignore[union-attr]\u001b[39;49;00m\n\u001b[0;32m    156\u001b[0m \u001b[43m        \u001b[49m\u001b[38;5;28;43mself\u001b[39;49m\u001b[38;5;241;43m.\u001b[39;49m\u001b[43mdatabase_path\u001b[49m\u001b[43m,\u001b[49m\n\u001b[0;32m    157\u001b[0m \u001b[43m        \u001b[49m\u001b[38;5;28;43mself\u001b[39;49m\u001b[38;5;241;43m.\u001b[39;49m\u001b[43mbuffer_pool_size\u001b[49m\u001b[43m,\u001b[49m\n\u001b[0;32m    158\u001b[0m \u001b[43m        \u001b[49m\u001b[38;5;28;43mself\u001b[39;49m\u001b[38;5;241;43m.\u001b[39;49m\u001b[43mmax_num_threads\u001b[49m\u001b[43m,\u001b[49m\n\u001b[0;32m    159\u001b[0m \u001b[43m        \u001b[49m\u001b[38;5;28;43mself\u001b[39;49m\u001b[38;5;241;43m.\u001b[39;49m\u001b[43mcompression\u001b[49m\u001b[43m,\u001b[49m\n\u001b[0;32m    160\u001b[0m \u001b[43m        \u001b[49m\u001b[38;5;28;43mself\u001b[39;49m\u001b[38;5;241;43m.\u001b[39;49m\u001b[43mread_only\u001b[49m\u001b[43m,\u001b[49m\n\u001b[0;32m    161\u001b[0m \u001b[43m        \u001b[49m\u001b[38;5;28;43mself\u001b[39;49m\u001b[38;5;241;43m.\u001b[39;49m\u001b[43mmax_db_size\u001b[49m\u001b[43m,\u001b[49m\n\u001b[0;32m    162\u001b[0m \u001b[43m        \u001b[49m\u001b[38;5;28;43mself\u001b[39;49m\u001b[38;5;241;43m.\u001b[39;49m\u001b[43mauto_checkpoint\u001b[49m\u001b[43m,\u001b[49m\n\u001b[0;32m    163\u001b[0m \u001b[43m        \u001b[49m\u001b[38;5;28;43mself\u001b[39;49m\u001b[38;5;241;43m.\u001b[39;49m\u001b[43mcheckpoint_threshold\u001b[49m\u001b[43m,\u001b[49m\n\u001b[0;32m    164\u001b[0m \u001b[43m    \u001b[49m\u001b[43m)\u001b[49m\n",
      "\u001b[1;31mRuntimeError\u001b[0m: IO exception: Could not set lock on file : e:\\projects\\kuzu-lite\\util\\demo_db/.lock\nSee the docs: https://docs.kuzudb.com/concurrency for more information."
     ]
    }
   ],
   "source": [
    "import kuzu\n",
    "\n",
    "\n",
    "class KuzuSession:\n",
    "    def __init__(self, db_path):\n",
    "        self.db_path = db_path\n",
    "\n",
    "    def __enter__(self):\n",
    "        self.db = kuzu.Database(self.db_path)\n",
    "        self.conn = kuzu.Connection(self.db)\n",
    "        return self.conn\n",
    "\n",
    "    def __exit__(self, exc_type, exc_val, exc_tb):\n",
    "       # self.conn.close()\n",
    "       # self.db.close()\n",
    "        print(\"Session closed successfully.\")\n",
    "\n",
    "# Usage:\n",
    "with KuzuSession(\"demo_db\") as conn:\n",
    "    result = conn.execute(\"MATCH (n) RETURN n LIMIT 1\")\n",
    "    print(result.get_as_df())"
   ]
  },
  {
   "cell_type": "code",
   "execution_count": 3,
   "id": "612c6ac3",
   "metadata": {},
   "outputs": [
    {
     "name": "stdout",
     "output_type": "stream",
     "text": [
      "                                                   n  \\\n",
      "0  {'_id': {'offset': 0, 'table': 0}, '_label': '...   \n",
      "1  {'_id': {'offset': 0, 'table': 0}, '_label': '...   \n",
      "2  {'_id': {'offset': 1, 'table': 1}, '_label': '...   \n",
      "3  {'_id': {'offset': 0, 'table': 1}, '_label': '...   \n",
      "\n",
      "                                                   m  \\\n",
      "0  {'_id': {'offset': 0, 'table': 1}, '_label': '...   \n",
      "1  {'_id': {'offset': 1, 'table': 1}, '_label': '...   \n",
      "2  {'_id': {'offset': 0, 'table': 0}, '_label': '...   \n",
      "3  {'_id': {'offset': 0, 'table': 0}, '_label': '...   \n",
      "\n",
      "                                                   r  \n",
      "0  {'_src': {'offset': 0, 'table': 1}, '_dst': {'...  \n",
      "1  {'_src': {'offset': 1, 'table': 1}, '_dst': {'...  \n",
      "2  {'_src': {'offset': 1, 'table': 1}, '_dst': {'...  \n",
      "3  {'_src': {'offset': 0, 'table': 1}, '_dst': {'...  \n"
     ]
    }
   ],
   "source": [
    "from safe_kuzu_subprocess import SafeKuzuSubprocess\n",
    "with SafeKuzuSubprocess(\"demo_db\") as db:\n",
    "    df = db.execute(\"MATCH (n)-[r]-(m) RETURN * LIMIT 10\")\n",
    "    print(df)"
   ]
  },
  {
   "cell_type": "code",
   "execution_count": 4,
   "id": "44884e2c",
   "metadata": {},
   "outputs": [
    {
     "name": "stdout",
     "output_type": "stream",
     "text": [
      "                                                      n  \\\n",
      "0     {'_id': {'offset': 70014, 'table': 1}, '_label...   \n",
      "1     {'_id': {'offset': 70015, 'table': 1}, '_label...   \n",
      "2     {'_id': {'offset': 70016, 'table': 1}, '_label...   \n",
      "3     {'_id': {'offset': 70017, 'table': 1}, '_label...   \n",
      "4     {'_id': {'offset': 70018, 'table': 1}, '_label...   \n",
      "...                                                 ...   \n",
      "1995  {'_id': {'offset': 183, 'table': 0}, '_label':...   \n",
      "1996  {'_id': {'offset': 183, 'table': 0}, '_label':...   \n",
      "1997  {'_id': {'offset': 183, 'table': 0}, '_label':...   \n",
      "1998  {'_id': {'offset': 183, 'table': 0}, '_label':...   \n",
      "1999  {'_id': {'offset': 183, 'table': 0}, '_label':...   \n",
      "\n",
      "                                                      m  \\\n",
      "0     {'_id': {'offset': 0, 'table': 0}, '_label': '...   \n",
      "1     {'_id': {'offset': 0, 'table': 0}, '_label': '...   \n",
      "2     {'_id': {'offset': 0, 'table': 0}, '_label': '...   \n",
      "3     {'_id': {'offset': 0, 'table': 0}, '_label': '...   \n",
      "4     {'_id': {'offset': 0, 'table': 0}, '_label': '...   \n",
      "...                                                 ...   \n",
      "1995  {'_id': {'offset': 85, 'table': 1}, '_label': ...   \n",
      "1996  {'_id': {'offset': 86, 'table': 1}, '_label': ...   \n",
      "1997  {'_id': {'offset': 87, 'table': 1}, '_label': ...   \n",
      "1998  {'_id': {'offset': 88, 'table': 1}, '_label': ...   \n",
      "1999  {'_id': {'offset': 89, 'table': 1}, '_label': ...   \n",
      "\n",
      "                                                      r  \n",
      "0     {'_src': {'offset': 0, 'table': 0}, '_dst': {'...  \n",
      "1     {'_src': {'offset': 0, 'table': 0}, '_dst': {'...  \n",
      "2     {'_src': {'offset': 0, 'table': 0}, '_dst': {'...  \n",
      "3     {'_src': {'offset': 0, 'table': 0}, '_dst': {'...  \n",
      "4     {'_src': {'offset': 0, 'table': 0}, '_dst': {'...  \n",
      "...                                                 ...  \n",
      "1995  {'_src': {'offset': 183, 'table': 0}, '_dst': ...  \n",
      "1996  {'_src': {'offset': 183, 'table': 0}, '_dst': ...  \n",
      "1997  {'_src': {'offset': 183, 'table': 0}, '_dst': ...  \n",
      "1998  {'_src': {'offset': 183, 'table': 0}, '_dst': ...  \n",
      "1999  {'_src': {'offset': 183, 'table': 0}, '_dst': ...  \n",
      "\n",
      "[2000 rows x 3 columns]\n"
     ]
    }
   ],
   "source": [
    "\n",
    "from safe_kuzu_subprocess import SafeKuzuSubprocess\n",
    "with SafeKuzuSubprocess(\"demo_large\") as db:\n",
    "    df = db.execute(\"MATCH (n)-[r]-(m) RETURN * LIMIT 2000\")\n",
    "    print(df)"
   ]
  }
 ],
 "metadata": {
  "kernelspec": {
   "display_name": "Python 3",
   "language": "python",
   "name": "python3"
  },
  "language_info": {
   "codemirror_mode": {
    "name": "ipython",
    "version": 3
   },
   "file_extension": ".py",
   "mimetype": "text/x-python",
   "name": "python",
   "nbconvert_exporter": "python",
   "pygments_lexer": "ipython3",
   "version": "3.13.1"
  }
 },
 "nbformat": 4,
 "nbformat_minor": 5
}
