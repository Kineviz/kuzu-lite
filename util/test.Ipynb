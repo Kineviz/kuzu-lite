{
 "cells": [
  {
   "cell_type": "code",
   "execution_count": null,
   "id": "1e7f8fe1",
   "metadata": {},
   "outputs": [],
   "source": [
    "import kuzu\n",
    "\n",
    "# Create an empty on-disk database and connect to it\n",
    "db = kuzu.Database(\"./demo_db\")\n",
    "conn = kuzu.Connection(db)\n",
    "\n",
    "# Execute Cypher query\n",
    "response = conn.execute(\n",
    "    \"\"\"\n",
    "    MATCH (a)\n",
    "    RETURN a.name AS name \n",
    "    \"\"\"\n",
    ")\n",
    "while response.has_next():\n",
    "    print(response.get_next())"
   ]
  }
 ],
 "metadata": {
  "kernelspec": {
   "display_name": "Python 3",
   "language": "python",
   "name": "python3"
  },
  "language_info": {
   "codemirror_mode": {
    "name": "ipython",
    "version": 3
   },
   "file_extension": ".py",
   "mimetype": "text/x-python",
   "name": "python",
   "nbconvert_exporter": "python",
   "pygments_lexer": "ipython3",
   "version": "3.13.1"
  }
 },
 "nbformat": 4,
 "nbformat_minor": 5
}
